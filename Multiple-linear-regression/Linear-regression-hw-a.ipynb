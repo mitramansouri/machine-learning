{
 "cells": [
  {
   "cell_type": "code",
   "execution_count": 26,
   "id": "895af1b5-e7db-479e-8e8c-4c5d243caab7",
   "metadata": {},
   "outputs": [],
   "source": [
    "import numpy as np \n",
    "import matplotlib.pyplot as plt"
   ]
  },
  {
   "cell_type": "code",
   "execution_count": 27,
   "id": "2c17dfe9-8372-4f3f-9e27-6b83d94fe789",
   "metadata": {},
   "outputs": [],
   "source": [
    "# Data \n",
    "x_train = np.array([[2,3],[1,1],[2,1],[3,2]]) # age in years and milage in 10^4 km\n",
    "y_train = np.array([2,3,2,2]) # price in 1000 euros\n",
    "# Normalization\n",
    "# mean = np.mean(x_train, axis=0)\n",
    "# std = np.std(x_train, axis=0)\n",
    "# x_train = (x_train - mean) / std"
   ]
  },
  {
   "cell_type": "code",
   "execution_count": 28,
   "id": "22b3aa63-0e7e-4bda-9a2c-9ef96805d762",
   "metadata": {},
   "outputs": [],
   "source": [
    "# Initialize variables \n",
    "beta0 = 0 \n",
    "beta = np.zeros(2) # beta[0] = beta1 weight for age , beta[1] = beta2 for milage"
   ]
  },
  {
   "cell_type": "code",
   "execution_count": 29,
   "id": "9679a296-ec58-4c25-8f33-e09a097bc9ec",
   "metadata": {},
   "outputs": [],
   "source": [
    "learning_rate = 0.1  # Adjusted learning rate\n",
    "# Set tolerance (stopping criterion)\n",
    "tolerance = 1e-6  # Stop when gradient updates are very small\n",
    "# Initialize change in beta to a large value\n",
    "beta_change = float('inf')\n",
    "m = len(x_train)\n",
    "cost_history = []"
   ]
  },
  {
   "cell_type": "code",
   "execution_count": 30,
   "id": "c8392580-2e55-4458-91f4-9596ae319209",
   "metadata": {},
   "outputs": [],
   "source": [
    "# Perform gradient descent until convergence\n",
    "while np.linalg.norm(beta_change) > tolerance:\n",
    "    # Compute predictions\n",
    "    y_pred = np.dot(x_train, beta) + beta0\n",
    "\n",
    "    # Compute errors\n",
    "    errors = y_pred - y_train\n",
    "\n",
    "    # Compute cost (optional: for analysis)\n",
    "    cost = (1/(2*m)) * np.sum(errors**2)\n",
    "    cost_history.append(cost)\n",
    "\n",
    "    # Compute gradients\n",
    "    beta_grad = (1/m) * np.dot(x_train.T, errors)  # Weights gradient\n",
    "    beta0_grad = (1/m) * np.sum(errors)  # Bias gradient\n",
    "\n",
    "    # Store previous beta values to check change\n",
    "    prev_beta = beta.copy()\n",
    "\n",
    "    # Update parameters\n",
    "    beta -= learning_rate * beta_grad\n",
    "    beta0 -= learning_rate * beta0_grad\n",
    "\n",
    "    # Compute change in beta\n",
    "    beta_change = np.linalg.norm(beta - prev_beta)  \n"
   ]
  },
  {
   "cell_type": "code",
   "execution_count": 31,
   "id": "6b8ac2c4-de43-45d6-9630-2d4a4ca709e2",
   "metadata": {},
   "outputs": [
    {
     "data": {
      "image/png": "[encoded data removed]",
      "text/plain": [
       "<Figure size 640x480 with 1 Axes>"
      ]
     },
     "metadata": {},
     "output_type": "display_data"
    },
    {
     "name": "stdout",
     "output_type": "stream",
     "text": [
      "[-0.44433677 -0.11107988] 3.3330372421679533\n"
     ]
    }
   ],
   "source": [
    "# Ploting the cost function \n",
    "plt.plot(cost_history)\n",
    "plt.xlabel(\"Iteration\")\n",
    "plt.ylabel(\"Cost\")\n",
    "plt.title(\"Cost Function Convergence\")\n",
    "plt.show()\n",
    "print(beta, beta0)"
   ]
  },
  {
   "cell_type": "code",
   "execution_count": 35,
   "id": "cceb45a1-9f9c-4d20-86b0-01f707c148ac",
   "metadata": {},
   "outputs": [
    {
     "name": "stdout",
     "output_type": "stream",
     "text": [
      "1.8889470562421664\n"
     ]
    }
   ],
   "source": [
    "# Estimate data \n",
    "age = 3\n",
    "milage = 1\n",
    "x_t = [3,1]\n",
    "y_pred = np.dot(x_t, beta) + beta0\n",
    "print(y_pred)"
   ]
  },
  {
   "cell_type": "code",
   "execution_count": 36,
   "id": "1beb7c25-936c-4921-8529-56e16a55aa30",
   "metadata": {},
   "outputs": [
    {
     "data": {
      "text/plain": [
       "'\\nAlways show details\\n\\nCopy\\nimport numpy as np\\nimport pandas as pd\\nfrom sklearn.linear_model import LinearRegression\\n\\n# Given data\\nX = np.array([[2, 3], [1, 1], [2, 1], [3, 2]])  # [age, milage]\\ny = np.array([2, 3, 2, 2])  # price\\n\\n# Fit linear regression model\\nmodel = LinearRegression()\\nmodel.fit(X, y)\\n\\n# Get coefficients\\nbeta_0 = model.intercept_\\nbeta_1, beta_2 = model.coef_\\n\\n# Predict price for age=3 and milage=1\\nX_new = np.array([[3, 1]])\\ny_pred = model.predict(X_new)\\n\\n# Display results\\nbeta_0, beta_1, beta_2, y_pred[0]\\n'"
      ]
     },
     "execution_count": 36,
     "metadata": {},
     "output_type": "execute_result"
    }
   ],
   "source": [
    "# CHATGPT code bellow \n",
    "'''\n",
    "Always show details\n",
    "\n",
    "Copy\n",
    "import numpy as np\n",
    "import pandas as pd\n",
    "from sklearn.linear_model import LinearRegression\n",
    "\n",
    "# Given data\n",
    "X = np.array([[2, 3], [1, 1], [2, 1], [3, 2]])  # [age, milage]\n",
    "y = np.array([2, 3, 2, 2])  # price\n",
    "\n",
    "# Fit linear regression model\n",
    "model = LinearRegression()\n",
    "model.fit(X, y)\n",
    "\n",
    "# Get coefficients\n",
    "beta_0 = model.intercept_\n",
    "beta_1, beta_2 = model.coef_\n",
    "\n",
    "# Predict price for age=3 and milage=1\n",
    "X_new = np.array([[3, 1]])\n",
    "y_pred = model.predict(X_new)\n",
    "\n",
    "# Display results\n",
    "beta_0, beta_1, beta_2, y_pred[0]\n",
    "'''"
   ]
  },
  {
   "cell_type": "code",
   "execution_count": null,
   "id": "7da52b4e-6dad-4e48-8ac2-4602a11866d0",
   "metadata": {},
   "outputs": [],
   "source": []
  }
 ],
 "metadata": {
  "kernelspec": {
   "display_name": "Python 3 (ipykernel)",
   "language": "python",
   "name": "python3"
  },
  "language_info": {
   "codemirror_mode": {
    "name": "ipython",
    "version": 3
   },
   "file_extension": ".py",
   "mimetype": "text/x-python",
   "name": "python",
   "nbconvert_exporter": "python",
   "pygments_lexer": "ipython3",
   "version": "3.13.1"
  }
 },
 "nbformat": 4,
 "nbformat_minor": 5
}
